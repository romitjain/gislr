{
 "cells": [
  {
   "cell_type": "code",
   "execution_count": null,
   "id": "6095118f",
   "metadata": {},
   "outputs": [],
   "source": [
    "import os\n",
    "import json\n",
    "import numpy as np\n",
    "import pandas as pd\n",
    "import mediapipe as mp\n",
    "\n",
    "from tqdm import tqdm\n",
    "import logging\n",
    "\n",
    "import matplotlib.pyplot as plt\n",
    "from mediapipe.framework.formats import landmark_pb2\n",
    "\n",
    "mp_holistic = mp.solutions.holistic\n",
    "logger = logging.getLogger(__name__)\n",
    "logger.setLevel(\"INFO\")"
   ]
  },
  {
   "cell_type": "code",
   "execution_count": null,
   "id": "beacc84d",
   "metadata": {},
   "outputs": [],
   "source": [
    "# Constants\n",
    "\n",
    "connections_type = dict(\n",
    "    face=mp_holistic.FACE_CONNECTIONS,\n",
    "    left_hand=mp_holistic.HAND_CONNECTIONS,\n",
    "    right_hand=mp_holistic.HAND_CONNECTIONS,\n",
    "    pose=mp_holistic.POSE_CONNECTIONS\n",
    ")\n",
    "\n",
    "IMG_SIZE = (512, 512, 3)\n",
    "\n",
    "train_dataset_path = \"train_landmark_files/\"\n",
    "save_dataset_path = \"transformed_imgs/\"\n",
    "class_path = \"train.csv\"\n",
    "class_to_label_path = \"sign_to_prediction_index_map.json\""
   ]
  },
  {
   "cell_type": "code",
   "execution_count": null,
   "id": "138eeb8b",
   "metadata": {},
   "outputs": [],
   "source": [
    "def get_pts_to_img(data: pd.DataFrame) -> np.ndarray:\n",
    "    image = np.zeros(IMG_SIZE, np.uint8)\n",
    "\n",
    "    pts = {\n",
    "        \"face\": [],\n",
    "        \"left_hand\": [],\n",
    "        \"right_hand\": [],\n",
    "        \"pose\": []\n",
    "    }\n",
    "\n",
    "    for elem in data.itertuples():\n",
    "        pts[elem.type].append(\n",
    "            landmark_pb2.NormalizedLandmark(\n",
    "                x=elem.x,\n",
    "                y=elem.y,\n",
    "                z=elem.z,\n",
    "                visibility=1.0\n",
    "            )\n",
    "        )\n",
    "\n",
    "    for body_part, landmarks in pts.items():\n",
    "        landmark_subset = landmark_pb2.NormalizedLandmarkList(landmark =  landmarks)\n",
    "\n",
    "        mp.solutions.drawing_utils.draw_landmarks(\n",
    "            image,\n",
    "            landmark_subset,\n",
    "            connections_type[body_part]\n",
    "        )\n",
    "        \n",
    "    return image"
   ]
  },
  {
   "cell_type": "code",
   "execution_count": null,
   "id": "ef96a1df",
   "metadata": {},
   "outputs": [],
   "source": [
    "def get_train_dataset(train_dataset_path: str, class_path: str, class_to_label_path: str) -> pd.DataFrame:\n",
    "    x = []\n",
    "    for dirpath, dirnames, filenames in os.walk(train_dataset_path):\n",
    "        if filenames:\n",
    "            for fl in filenames:\n",
    "                x.append(os.path.join(dirpath, fl))\n",
    "\n",
    "    print(f\"Found {len(x)} files\")\n",
    "    \n",
    "    class_name = pd.read_csv(class_path)\n",
    "    \n",
    "    with open(class_to_label_path, \"r\") as fp:\n",
    "        y_label = json.load(fp)\n",
    "        y_label = pd.DataFrame.from_dict(y_label, orient=\"index\", columns = [\"y_label\"])\n",
    "    \n",
    "    df = pd.DataFrame(\n",
    "        x, columns=[\"filename\"]\n",
    "    )\n",
    "    \n",
    "    df = df.set_index(\"filename\").join(class_name.set_index(\"path\")).reset_index()\n",
    "    df = df.set_index(\"sign\").join(y_label).reset_index()\n",
    "\n",
    "    return df"
   ]
  },
  {
   "cell_type": "code",
   "execution_count": null,
   "id": "44629556",
   "metadata": {
    "scrolled": true
   },
   "outputs": [],
   "source": [
    "def get_frames_count(x):\n",
    "    fl = pd.read_parquet(x)\n",
    "    return fl.frame.nunique()\n",
    "\n",
    "dt = []\n",
    "for elem in tqdm(df.itertuples(), total = df.shape[0]):\n",
    "    dt.append(get_frames_count(elem.filename))\n",
    "    \n",
    "df[\"nframes\"] = dt"
   ]
  },
  {
   "cell_type": "code",
   "execution_count": null,
   "id": "39708c5a",
   "metadata": {},
   "outputs": [],
   "source": [
    "df.to_csv(\"train_data_with_label.csv\")"
   ]
  },
  {
   "cell_type": "code",
   "execution_count": null,
   "id": "fcd56e42",
   "metadata": {},
   "outputs": [],
   "source": [
    "def get_transformed_data(dataset_files: str, save_dataset_path: str) -> None:\n",
    "    for fl in tqdm(dataset_files):\n",
    "        df = pd.read_parquet(fl)\n",
    "        logger.info(f\"Found: {df.frame.nunique()} frames in {fl}\")\n",
    "\n",
    "        all_imgs = []\n",
    "\n",
    "        for single_frame in df.frame.unique():\n",
    "            temp = df[df.frame == single_frame]\n",
    "            single_frame_img = get_pts_to_img(temp)\n",
    "            all_imgs.append(single_frame_img)\n",
    "\n",
    "        all_imgs = np.array(all_imgs)\n",
    "\n",
    "        fl_save = f'{fl.split(\"/\")[-1].split(\".parquet\")[0]}.npz'\n",
    "\n",
    "        with open(os.path.join(save_dataset_path, fl_save), 'wb') as fp:\n",
    "            np.save(fp, all_imgs)\n",
    "            logger.info(f\"Saved {fl_save}\")"
   ]
  },
  {
   "cell_type": "code",
   "execution_count": null,
   "id": "74d1fa09",
   "metadata": {
    "scrolled": true
   },
   "outputs": [],
   "source": [
    "dataset_files = get_all_files(train_dataset_path)"
   ]
  },
  {
   "cell_type": "code",
   "execution_count": null,
   "id": "74762f61",
   "metadata": {
    "scrolled": true
   },
   "outputs": [],
   "source": [
    "get_transformed_data(dataset_files=dataset_files, save_dataset_path=save_dataset_path)"
   ]
  }
 ],
 "metadata": {
  "kernelspec": {
   "display_name": "Python 3",
   "language": "python",
   "name": "python3"
  },
  "language_info": {
   "codemirror_mode": {
    "name": "ipython",
    "version": 3
   },
   "file_extension": ".py",
   "mimetype": "text/x-python",
   "name": "python",
   "nbconvert_exporter": "python",
   "pygments_lexer": "ipython3",
   "version": "3.7.15"
  }
 },
 "nbformat": 4,
 "nbformat_minor": 5
}
